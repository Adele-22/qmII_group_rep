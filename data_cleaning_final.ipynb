{
  "nbformat": 4,
  "nbformat_minor": 0,
  "metadata": {
    "colab": {
      "name": "data_cleaning",
      "provenance": [],
      "collapsed_sections": [],
      "authorship_tag": "ABX9TyP6l5wMLNnhlSCH4CQmgOGi",
      "include_colab_link": true
    },
    "kernelspec": {
      "name": "python3",
      "display_name": "Python 3"
    }
  },
  "cells": [
    {
      "cell_type": "markdown",
      "metadata": {
        "id": "view-in-github",
        "colab_type": "text"
      },
      "source": [
        "<a href=\"https://colab.research.google.com/github/loicpages/qmII_group_rep/blob/main/data_cleaning_final.ipynb\" target=\"_parent\"><img src=\"https://colab.research.google.com/assets/colab-badge.svg\" alt=\"Open In Colab\"/></a>"
      ]
    },
    {
      "cell_type": "markdown",
      "metadata": {
        "id": "aRp-wNo3NZAo"
      },
      "source": [
        "***Data cleaning notebook - use to clean/ merge/ rearrange data sets***"
      ]
    },
    {
      "cell_type": "markdown",
      "metadata": {
        "id": "cWq1cVdAN2cf"
      },
      "source": [
        "*Libraries used:*"
      ]
    },
    {
      "cell_type": "code",
      "metadata": {
        "id": "A8IYeAsgS4e0"
      },
      "source": [
        "import pylab\n",
        "import pandas as pd\n",
        "import numpy as math\n",
        "from google.colab import files\n",
        "import io\n",
        "import matplotlib.pyplot as plt\n",
        "from functools import reduce\n",
        "%matplotlib inline\n",
        "plt.style.use('ggplot')"
      ],
      "execution_count": 21,
      "outputs": []
    },
    {
      "cell_type": "markdown",
      "metadata": {
        "id": "2KStm4a3N9dd"
      },
      "source": [
        "*Importing, Encording and Indexing data:*"
      ]
    },
    {
      "cell_type": "code",
      "metadata": {
        "id": "alz7BmuaZVGL"
      },
      "source": [
        "data_path = '/content/complete_data_set.csv'\n",
        "general_df = pd.read_csv(data_path, encoding ='latin-1')"
      ],
      "execution_count": 3,
      "outputs": []
    },
    {
      "cell_type": "code",
      "metadata": {
        "id": "BY4AEVWiuBIm"
      },
      "source": [
        "#Creating a food_availibility dataframe#\n",
        "intermediate_food_availibility_df = general_df[general_df.Commodity == \"Total Grains/Cereals and Root Crops (R&T)\"]\n",
        "food_availibility_df = intermediate_food_availibility_df[intermediate_food_availibility_df.Item == 'Food Availability per capita']\n",
        "food_availibility_df = food_availibility_df.reset_index(drop = True)\n",
        "food_availibility_df.rename(columns = {'Amount': 'Food Availibility per capita (kg/cap/year)'}, inplace = True)\n",
        "food_availibility_df.drop(['Commodity', 'Item', 'Unit'], axis=1, inplace = True)\n",
        "#Creating a food_production dataframe#\n",
        "intermediate_food_production_df = general_df[general_df.Commodity == \"Total Grains/Cereals and Root Crops (R&T)\"]\n",
        "food_production_df = intermediate_food_production_df[intermediate_food_production_df.Item == 'Production Quantity']\n",
        "food_production_df = food_production_df.reset_index(drop = True)\n",
        "food_production_df.rename(columns = {'Amount': 'Production Quantity (Grains & Ce.+ Root Crops)(1000MT)'}, inplace = True)\n",
        "food_production_df.drop(['Commodity', 'Item', 'Unit'], axis=1, inplace = True)\n",
        "#Creating an import_grains_df#\n",
        "intermediate_import_grains_df = general_df[general_df.Commodity == \"Total Grains/Cereals\"]\n",
        "import_grains_df = intermediate_import_grains_df[intermediate_import_grains_df.Item == 'Import Quantity']\n",
        "import_grains_df = import_grains_df.reset_index(drop = True)\n",
        "import_grains_df.rename(columns = {'Amount': 'Import Quantity (Grains & Ce.)(1000MT)'}, inplace = True)\n",
        "import_grains_df.drop(['Commodity', 'Item', 'Unit'], axis=1, inplace = True)\n",
        "#Creating an export_grains_df#\n",
        "intermediate_export_grains_df = general_df[general_df.Commodity == \"Total Grains/Cereals\"]\n",
        "export_grains_df = intermediate_export_grains_df[intermediate_export_grains_df.Item == 'Export Quantity']\n",
        "export_grains_df = export_grains_df.reset_index(drop = True)\n",
        "export_grains_df.rename(columns = {'Amount': 'Export Quantity (Grains & Ce.)(1000MT)'}, inplace = True)\n",
        "export_grains_df.drop(['Commodity', 'Item', 'Unit'], axis=1, inplace = True)\n",
        "#Creating an import_root_df#\n",
        "intermediate_import_root_df = general_df[general_df.Commodity == \"Root Crops (R&T)\"]\n",
        "import_root_df = intermediate_import_root_df[intermediate_import_root_df.Item == 'Import Quantity']\n",
        "import_root_df = import_root_df.reset_index(drop = True)\n",
        "import_root_df.rename(columns = {'Amount': 'Import Quantity (Root Crops)(1000MT)'}, inplace = True)\n",
        "import_root_df.drop(['Commodity', 'Item', 'Unit'], axis=1, inplace = True)\n",
        "#Creating an export_root_df#\n",
        "intermediate_export_root_df = general_df[general_df.Commodity == \"Root Crops (R&T)\"]\n",
        "export_root_df = intermediate_export_root_df[intermediate_export_root_df.Item == 'Export Quantity']\n",
        "export_root_df = export_root_df.reset_index(drop = True)\n",
        "export_root_df.rename(columns = {'Amount': 'Export Quantity (Root Crops)(1000MT)'}, inplace = True)\n",
        "export_root_df.drop(['Commodity', 'Item', 'Unit'], axis=1, inplace = True)\n",
        "#Creating a population_df#\n",
        "population_df = general_df[general_df.Commodity == \"Population\"]\n",
        "population_df = population_df.reset_index(drop = True)\n",
        "population_df.rename(columns = {'Amount': 'Population (Million)'}, inplace = True)\n",
        "population_df.drop(['Commodity', 'Item', 'Unit'], axis=1, inplace = True)"
      ],
      "execution_count": 150,
      "outputs": []
    },
    {
      "cell_type": "code",
      "metadata": {
        "id": "YUu4D3bMqu6c"
      },
      "source": [
        "#merge data frames and fill gaps#\n",
        "data_frames = [food_availibility_df, food_production_df, import_grains_df, export_grains_df, import_root_df, export_root_df, population_df]\n",
        "df_merged = reduce(lambda  left,right: pd.merge(left,right,on=['Country', 'Year'],\n",
        "                                            how='outer'), data_frames).fillna(pd.NaT)    \n",
        "\n",
        "df_merged.sort_values(by=['Country', 'Year'], inplace = True)\n",
        "df_merged.reset_index(drop = True)"
      ],
      "execution_count": null,
      "outputs": []
    },
    {
      "cell_type": "code",
      "metadata": {
        "id": "kdHv1A2NnMy0"
      },
      "source": [
        "#Add additional columns that are required for analysis#\n",
        "df_merged['Imports (all)(1000MT)'] = df_merged['Import Quantity (Grains & Ce.)(1000MT)'] + df_merged['Import Quantity (Root Crops)(1000MT)']\n",
        "df_merged['Exports (all)(1000MT)'] = df_merged['Export Quantity (Grains & Ce.)(1000MT)'] + df_merged['Export Quantity (Root Crops)(1000MT)']\n",
        "df_merged['Production Quantity per capita (kg/cap/year)'] = df_merged['Production Quantity (Grains & Ce.+ Root Crops)(1000MT)'] / df_merged['Population (Million)']\n",
        "df_merged['Imports (all) per capita (kg/cap/year)'] = df_merged['Imports (all)(1000MT)'] / df_merged['Population (Million)']\n",
        "df_merged['Exports (all) per capita (kg/cap/year)'] = df_merged['Exports (all)(1000MT)'] / df_merged['Population (Million)']\n",
        "df_merged['Production + net ex-imports (kg/cap/year)'] = (df_merged['Imports (all) per capita (kg/cap/year)'] + df_merged['Production Quantity per capita (kg/cap/year)']) - df_merged['Exports (all) per capita (kg/cap/year)']\n",
        "\n",
        "#save as csv file#\n",
        "df_merged.to_csv(r'df_final.csv', index = False)\n",
        "\n",
        "#Save as csv without missing values#\n",
        "df_no_missing_values = df_merged.dropna()\n",
        "df_no_missing_values.to_csv(r'df_final(no_missing values).csv', index = False)\n"
      ],
      "execution_count": 166,
      "outputs": []
    }
  ]
}