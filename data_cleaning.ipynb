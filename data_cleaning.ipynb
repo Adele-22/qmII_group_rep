{
  "nbformat": 4,
  "nbformat_minor": 0,
  "metadata": {
    "colab": {
      "name": "data_cleaning",
      "provenance": [],
      "collapsed_sections": [],
      "authorship_tag": "ABX9TyP4a9XUpWACszmFLnVR1ahz",
      "include_colab_link": true
    },
    "kernelspec": {
      "name": "python3",
      "display_name": "Python 3"
    }
  },
  "cells": [
    {
      "cell_type": "markdown",
      "metadata": {
        "id": "view-in-github",
        "colab_type": "text"
      },
      "source": [
        "<a href=\"https://colab.research.google.com/github/loicpages/qmII_group_rep/blob/main/data_cleaning.ipynb\" target=\"_parent\"><img src=\"https://colab.research.google.com/assets/colab-badge.svg\" alt=\"Open In Colab\"/></a>"
      ]
    },
    {
      "cell_type": "markdown",
      "metadata": {
        "id": "aRp-wNo3NZAo"
      },
      "source": [
        "***Data cleaning notebook - use to clean/ merge/ rearrange data sets***"
      ]
    },
    {
      "cell_type": "markdown",
      "metadata": {
        "id": "cWq1cVdAN2cf"
      },
      "source": [
        "*Libraries used:*"
      ]
    },
    {
      "cell_type": "code",
      "metadata": {
        "id": "A8IYeAsgS4e0"
      },
      "source": [
        "import pylab\n",
        "import pandas as pd\n",
        "import numpy as math\n",
        "from google.colab import files\n",
        "import io\n",
        "import matplotlib.pyplot as plt\n",
        "%matplotlib inline\n",
        "plt.style.use('ggplot')"
      ],
      "execution_count": null,
      "outputs": []
    },
    {
      "cell_type": "markdown",
      "metadata": {
        "id": "2KStm4a3N9dd"
      },
      "source": [
        "*Importing, Encording and Indexing data:*"
      ]
    },
    {
      "cell_type": "code",
      "metadata": {
        "id": "alz7BmuaZVGL",
        "outputId": "7d899414-8e36-4d18-f3e3-9aa78e1bcb4b",
        "colab": {
          "base_uri": "https://localhost:8080/",
          "height": 450
        }
      },
      "source": [
        "data_path = '/content/complete_data_set.csv'\n",
        "general_df = pd.read_csv(data_path, encoding ='latin-1')\n",
        "general_df.set_index('Country')"
      ],
      "execution_count": null,
      "outputs": [
        {
          "output_type": "execute_result",
          "data": {
            "text/html": [
              "<div>\n",
              "<style scoped>\n",
              "    .dataframe tbody tr th:only-of-type {\n",
              "        vertical-align: middle;\n",
              "    }\n",
              "\n",
              "    .dataframe tbody tr th {\n",
              "        vertical-align: top;\n",
              "    }\n",
              "\n",
              "    .dataframe thead th {\n",
              "        text-align: right;\n",
              "    }\n",
              "</style>\n",
              "<table border=\"1\" class=\"dataframe\">\n",
              "  <thead>\n",
              "    <tr style=\"text-align: right;\">\n",
              "      <th></th>\n",
              "      <th>Commodity</th>\n",
              "      <th>Item</th>\n",
              "      <th>Unit</th>\n",
              "      <th>Year</th>\n",
              "      <th>Amount</th>\n",
              "    </tr>\n",
              "    <tr>\n",
              "      <th>Country</th>\n",
              "      <th></th>\n",
              "      <th></th>\n",
              "      <th></th>\n",
              "      <th></th>\n",
              "      <th></th>\n",
              "    </tr>\n",
              "  </thead>\n",
              "  <tbody>\n",
              "    <tr>\n",
              "      <th>Algeria</th>\n",
              "      <td>Total Grains/Cereals</td>\n",
              "      <td>Area Harvested</td>\n",
              "      <td>1000 Ha</td>\n",
              "      <td>1980</td>\n",
              "      <td>3181.380000</td>\n",
              "    </tr>\n",
              "    <tr>\n",
              "      <th>Algeria</th>\n",
              "      <td>Total Grains/Cereals</td>\n",
              "      <td>Yield</td>\n",
              "      <td>MT / Ha</td>\n",
              "      <td>1980</td>\n",
              "      <td>0.760260</td>\n",
              "    </tr>\n",
              "    <tr>\n",
              "      <th>Algeria</th>\n",
              "      <td>Total Grains/Cereals</td>\n",
              "      <td>Production Quantity</td>\n",
              "      <td>1000 MT</td>\n",
              "      <td>1980</td>\n",
              "      <td>2418.674400</td>\n",
              "    </tr>\n",
              "    <tr>\n",
              "      <th>Algeria</th>\n",
              "      <td>Economic Data</td>\n",
              "      <td>Gross Domestic Product, constant prices</td>\n",
              "      <td>Percent change</td>\n",
              "      <td>1980</td>\n",
              "      <td>-5.400000</td>\n",
              "    </tr>\n",
              "    <tr>\n",
              "      <th>Algeria</th>\n",
              "      <td>Economic Data</td>\n",
              "      <td>GDP (constant 2005 US$)</td>\n",
              "      <td>Million</td>\n",
              "      <td>1980</td>\n",
              "      <td>50817.865550</td>\n",
              "    </tr>\n",
              "    <tr>\n",
              "      <th>...</th>\n",
              "      <td>...</td>\n",
              "      <td>...</td>\n",
              "      <td>...</td>\n",
              "      <td>...</td>\n",
              "      <td>...</td>\n",
              "    </tr>\n",
              "    <tr>\n",
              "      <th>Peru</th>\n",
              "      <td>Total Grains/Cereals and Root Crops (R&amp;T)</td>\n",
              "      <td>Production Quantity</td>\n",
              "      <td>Grain Equiv. 1000 MT</td>\n",
              "      <td>2013</td>\n",
              "      <td>4256.022100</td>\n",
              "    </tr>\n",
              "    <tr>\n",
              "      <th>Peru</th>\n",
              "      <td>Total Grains/Cereals and Root Crops (R&amp;T)</td>\n",
              "      <td>Food Availability per capita</td>\n",
              "      <td>kg/cap/yr</td>\n",
              "      <td>2013</td>\n",
              "      <td>199.770754</td>\n",
              "    </tr>\n",
              "    <tr>\n",
              "      <th>Peru</th>\n",
              "      <td>Total Grains/Cereals and Root Crops (R&amp;T)</td>\n",
              "      <td>Food Supply</td>\n",
              "      <td>Grain Equiv. 1000 MT</td>\n",
              "      <td>2013</td>\n",
              "      <td>8246.022100</td>\n",
              "    </tr>\n",
              "    <tr>\n",
              "      <th>Peru</th>\n",
              "      <td>Other</td>\n",
              "      <td>Food Supply</td>\n",
              "      <td>Grain Equiv. 1000 MT / yr</td>\n",
              "      <td>2013</td>\n",
              "      <td>2526.583734</td>\n",
              "    </tr>\n",
              "    <tr>\n",
              "      <th>Peru</th>\n",
              "      <td>Other</td>\n",
              "      <td>Food Supply</td>\n",
              "      <td>Grain Equiv. kg/cap/yr</td>\n",
              "      <td>2013</td>\n",
              "      <td>325.289938</td>\n",
              "    </tr>\n",
              "  </tbody>\n",
              "</table>\n",
              "<p>90488 rows × 5 columns</p>\n",
              "</div>"
            ],
            "text/plain": [
              "                                         Commodity  ...        Amount\n",
              "Country                                             ...              \n",
              "Algeria                       Total Grains/Cereals  ...   3181.380000\n",
              "Algeria                       Total Grains/Cereals  ...      0.760260\n",
              "Algeria                       Total Grains/Cereals  ...   2418.674400\n",
              "Algeria                              Economic Data  ...     -5.400000\n",
              "Algeria                              Economic Data  ...  50817.865550\n",
              "...                                            ...  ...           ...\n",
              "Peru     Total Grains/Cereals and Root Crops (R&T)  ...   4256.022100\n",
              "Peru     Total Grains/Cereals and Root Crops (R&T)  ...    199.770754\n",
              "Peru     Total Grains/Cereals and Root Crops (R&T)  ...   8246.022100\n",
              "Peru                                         Other  ...   2526.583734\n",
              "Peru                                         Other  ...    325.289938\n",
              "\n",
              "[90488 rows x 5 columns]"
            ]
          },
          "metadata": {
            "tags": []
          },
          "execution_count": 41
        }
      ]
    },
    {
      "cell_type": "markdown",
      "metadata": {
        "id": "N1jtHUiFP6Ta"
      },
      "source": [
        "Let's now create a new *'food_availibility_df'* and Isolate food availibility per capita for each country over *time*"
      ]
    },
    {
      "cell_type": "code",
      "metadata": {
        "id": "89v-Ls3fPLS2",
        "outputId": "b1b2995f-5e95-4112-c12e-ded97c7a90e6",
        "colab": {
          "base_uri": "https://localhost:8080/",
          "height": 450
        }
      },
      "source": [
        "#Creating an intermediate food availibility data frame to drop out some cathegories#\n",
        "intermediate_food_availibility_df = general_df[general_df.Commodity == \"Total Grains/Cereals and Root Crops (R&T)\"]\n",
        "food_availibility_df = intermediate_food_availibility_df[intermediate_food_availibility_df.Item == 'Food Availability per capita']\n",
        "food_availibility_df[[\"Country\", \"Year\", \"Commodity\", \"Item\", \"Unit\", \"Amount\"]]\n",
        "food_availibility_df = food_availibility_df.reset_index(drop = True)\n",
        "food_availibility_df.set_index('Country')"
      ],
      "execution_count": null,
      "outputs": [
        {
          "output_type": "execute_result",
          "data": {
            "text/html": [
              "<div>\n",
              "<style scoped>\n",
              "    .dataframe tbody tr th:only-of-type {\n",
              "        vertical-align: middle;\n",
              "    }\n",
              "\n",
              "    .dataframe tbody tr th {\n",
              "        vertical-align: top;\n",
              "    }\n",
              "\n",
              "    .dataframe thead th {\n",
              "        text-align: right;\n",
              "    }\n",
              "</style>\n",
              "<table border=\"1\" class=\"dataframe\">\n",
              "  <thead>\n",
              "    <tr style=\"text-align: right;\">\n",
              "      <th></th>\n",
              "      <th>Commodity</th>\n",
              "      <th>Item</th>\n",
              "      <th>Unit</th>\n",
              "      <th>Year</th>\n",
              "      <th>Amount</th>\n",
              "    </tr>\n",
              "    <tr>\n",
              "      <th>Country</th>\n",
              "      <th></th>\n",
              "      <th></th>\n",
              "      <th></th>\n",
              "      <th></th>\n",
              "      <th></th>\n",
              "    </tr>\n",
              "  </thead>\n",
              "  <tbody>\n",
              "    <tr>\n",
              "      <th>Algeria</th>\n",
              "      <td>Total Grains/Cereals and Root Crops (R&amp;T)</td>\n",
              "      <td>Food Availability per capita</td>\n",
              "      <td>kg/cap/yr</td>\n",
              "      <td>1980</td>\n",
              "      <td>206.507152</td>\n",
              "    </tr>\n",
              "    <tr>\n",
              "      <th>Algeria</th>\n",
              "      <td>Total Grains/Cereals and Root Crops (R&amp;T)</td>\n",
              "      <td>Food Availability per capita</td>\n",
              "      <td>kg/cap/yr</td>\n",
              "      <td>1981</td>\n",
              "      <td>197.960152</td>\n",
              "    </tr>\n",
              "    <tr>\n",
              "      <th>Algeria</th>\n",
              "      <td>Total Grains/Cereals and Root Crops (R&amp;T)</td>\n",
              "      <td>Food Availability per capita</td>\n",
              "      <td>kg/cap/yr</td>\n",
              "      <td>1982</td>\n",
              "      <td>196.535700</td>\n",
              "    </tr>\n",
              "    <tr>\n",
              "      <th>Algeria</th>\n",
              "      <td>Total Grains/Cereals and Root Crops (R&amp;T)</td>\n",
              "      <td>Food Availability per capita</td>\n",
              "      <td>kg/cap/yr</td>\n",
              "      <td>1983</td>\n",
              "      <td>196.798051</td>\n",
              "    </tr>\n",
              "    <tr>\n",
              "      <th>Algeria</th>\n",
              "      <td>Total Grains/Cereals and Root Crops (R&amp;T)</td>\n",
              "      <td>Food Availability per capita</td>\n",
              "      <td>kg/cap/yr</td>\n",
              "      <td>1984</td>\n",
              "      <td>191.743128</td>\n",
              "    </tr>\n",
              "    <tr>\n",
              "      <th>...</th>\n",
              "      <td>...</td>\n",
              "      <td>...</td>\n",
              "      <td>...</td>\n",
              "      <td>...</td>\n",
              "      <td>...</td>\n",
              "    </tr>\n",
              "    <tr>\n",
              "      <th>Peru</th>\n",
              "      <td>Total Grains/Cereals and Root Crops (R&amp;T)</td>\n",
              "      <td>Food Availability per capita</td>\n",
              "      <td>kg/cap/yr</td>\n",
              "      <td>2009</td>\n",
              "      <td>189.090475</td>\n",
              "    </tr>\n",
              "    <tr>\n",
              "      <th>Peru</th>\n",
              "      <td>Total Grains/Cereals and Root Crops (R&amp;T)</td>\n",
              "      <td>Food Availability per capita</td>\n",
              "      <td>kg/cap/yr</td>\n",
              "      <td>2010</td>\n",
              "      <td>191.126840</td>\n",
              "    </tr>\n",
              "    <tr>\n",
              "      <th>Peru</th>\n",
              "      <td>Total Grains/Cereals and Root Crops (R&amp;T)</td>\n",
              "      <td>Food Availability per capita</td>\n",
              "      <td>kg/cap/yr</td>\n",
              "      <td>2011</td>\n",
              "      <td>193.288913</td>\n",
              "    </tr>\n",
              "    <tr>\n",
              "      <th>Peru</th>\n",
              "      <td>Total Grains/Cereals and Root Crops (R&amp;T)</td>\n",
              "      <td>Food Availability per capita</td>\n",
              "      <td>kg/cap/yr</td>\n",
              "      <td>2012</td>\n",
              "      <td>198.678775</td>\n",
              "    </tr>\n",
              "    <tr>\n",
              "      <th>Peru</th>\n",
              "      <td>Total Grains/Cereals and Root Crops (R&amp;T)</td>\n",
              "      <td>Food Availability per capita</td>\n",
              "      <td>kg/cap/yr</td>\n",
              "      <td>2013</td>\n",
              "      <td>199.770754</td>\n",
              "    </tr>\n",
              "  </tbody>\n",
              "</table>\n",
              "<p>2360 rows × 5 columns</p>\n",
              "</div>"
            ],
            "text/plain": [
              "                                         Commodity  ...      Amount\n",
              "Country                                             ...            \n",
              "Algeria  Total Grains/Cereals and Root Crops (R&T)  ...  206.507152\n",
              "Algeria  Total Grains/Cereals and Root Crops (R&T)  ...  197.960152\n",
              "Algeria  Total Grains/Cereals and Root Crops (R&T)  ...  196.535700\n",
              "Algeria  Total Grains/Cereals and Root Crops (R&T)  ...  196.798051\n",
              "Algeria  Total Grains/Cereals and Root Crops (R&T)  ...  191.743128\n",
              "...                                            ...  ...         ...\n",
              "Peru     Total Grains/Cereals and Root Crops (R&T)  ...  189.090475\n",
              "Peru     Total Grains/Cereals and Root Crops (R&T)  ...  191.126840\n",
              "Peru     Total Grains/Cereals and Root Crops (R&T)  ...  193.288913\n",
              "Peru     Total Grains/Cereals and Root Crops (R&T)  ...  198.678775\n",
              "Peru     Total Grains/Cereals and Root Crops (R&T)  ...  199.770754\n",
              "\n",
              "[2360 rows x 5 columns]"
            ]
          },
          "metadata": {
            "tags": []
          },
          "execution_count": 38
        }
      ]
    },
    {
      "cell_type": "code",
      "metadata": {
        "id": "H7D0_9aAZ-Dx",
        "outputId": "5bfeb67e-c7a4-4980-9fe5-3e4e94a812ab",
        "colab": {
          "base_uri": "https://localhost:8080/",
          "height": 299
        }
      },
      "source": [
        "algeria = food_availibility_df.loc[food_availibility_df['Country']=='Algeria']\n",
        "algeria.plot(x ='Year', y = 'Amount', kind ='scatter')"
      ],
      "execution_count": null,
      "outputs": [
        {
          "output_type": "execute_result",
          "data": {
            "text/plain": [
              "<matplotlib.axes._subplots.AxesSubplot at 0x7f5040cf35f8>"
            ]
          },
          "metadata": {
            "tags": []
          },
          "execution_count": 40
        },
        {
          "output_type": "display_data",
          "data": {
            "image/png": "[encoded data removed]",
            "text/plain": [
              "<Figure size 432x288 with 1 Axes>"
            ]
          },
          "metadata": {
            "tags": []
          }
        }
      ]
    },
    {
      "cell_type": "markdown",
      "metadata": {
        "id": "B7HJqbYrZjMO"
      },
      "source": [
        "Done! Now let's take a look at what we can do with HDI:"
      ]
    },
    {
      "cell_type": "code",
      "metadata": {
        "id": "-uk10ibfUcrC",
        "outputId": "8df9a83f-efac-4e2e-98ea-b6b56b40698e",
        "colab": {
          "base_uri": "https://localhost:8080/",
          "height": 450
        }
      },
      "source": [
        "data_path_2 = '/content/human-development-index.csv'\n",
        "hdi_df = pd.read_csv(data_path_2, encoding ='latin-1')\n",
        "hdi_df.drop('Code', inplace = True, axis=1)\n",
        "hdi_df.columns = ['Country', 'Year', 'HDI']\n",
        "hdi_df.set_index('Country')"
      ],
      "execution_count": null,
      "outputs": [
        {
          "output_type": "execute_result",
          "data": {
            "text/html": [
              "<div>\n",
              "<style scoped>\n",
              "    .dataframe tbody tr th:only-of-type {\n",
              "        vertical-align: middle;\n",
              "    }\n",
              "\n",
              "    .dataframe tbody tr th {\n",
              "        vertical-align: top;\n",
              "    }\n",
              "\n",
              "    .dataframe thead th {\n",
              "        text-align: right;\n",
              "    }\n",
              "</style>\n",
              "<table border=\"1\" class=\"dataframe\">\n",
              "  <thead>\n",
              "    <tr style=\"text-align: right;\">\n",
              "      <th></th>\n",
              "      <th>Year</th>\n",
              "      <th>HDI</th>\n",
              "    </tr>\n",
              "    <tr>\n",
              "      <th>Country</th>\n",
              "      <th></th>\n",
              "      <th></th>\n",
              "    </tr>\n",
              "  </thead>\n",
              "  <tbody>\n",
              "    <tr>\n",
              "      <th>Afghanistan</th>\n",
              "      <td>1980</td>\n",
              "      <td>0.228</td>\n",
              "    </tr>\n",
              "    <tr>\n",
              "      <th>Afghanistan</th>\n",
              "      <td>1985</td>\n",
              "      <td>0.273</td>\n",
              "    </tr>\n",
              "    <tr>\n",
              "      <th>Afghanistan</th>\n",
              "      <td>2002</td>\n",
              "      <td>0.373</td>\n",
              "    </tr>\n",
              "    <tr>\n",
              "      <th>Afghanistan</th>\n",
              "      <td>2003</td>\n",
              "      <td>0.383</td>\n",
              "    </tr>\n",
              "    <tr>\n",
              "      <th>Afghanistan</th>\n",
              "      <td>2004</td>\n",
              "      <td>0.398</td>\n",
              "    </tr>\n",
              "    <tr>\n",
              "      <th>...</th>\n",
              "      <td>...</td>\n",
              "      <td>...</td>\n",
              "    </tr>\n",
              "    <tr>\n",
              "      <th>Zimbabwe</th>\n",
              "      <td>2013</td>\n",
              "      <td>0.516</td>\n",
              "    </tr>\n",
              "    <tr>\n",
              "      <th>Zimbabwe</th>\n",
              "      <td>2014</td>\n",
              "      <td>0.525</td>\n",
              "    </tr>\n",
              "    <tr>\n",
              "      <th>Zimbabwe</th>\n",
              "      <td>2015</td>\n",
              "      <td>0.529</td>\n",
              "    </tr>\n",
              "    <tr>\n",
              "      <th>Zimbabwe</th>\n",
              "      <td>2016</td>\n",
              "      <td>0.532</td>\n",
              "    </tr>\n",
              "    <tr>\n",
              "      <th>Zimbabwe</th>\n",
              "      <td>2017</td>\n",
              "      <td>0.535</td>\n",
              "    </tr>\n",
              "  </tbody>\n",
              "</table>\n",
              "<p>5001 rows × 2 columns</p>\n",
              "</div>"
            ],
            "text/plain": [
              "             Year    HDI\n",
              "Country                 \n",
              "Afghanistan  1980  0.228\n",
              "Afghanistan  1985  0.273\n",
              "Afghanistan  2002  0.373\n",
              "Afghanistan  2003  0.383\n",
              "Afghanistan  2004  0.398\n",
              "...           ...    ...\n",
              "Zimbabwe     2013  0.516\n",
              "Zimbabwe     2014  0.525\n",
              "Zimbabwe     2015  0.529\n",
              "Zimbabwe     2016  0.532\n",
              "Zimbabwe     2017  0.535\n",
              "\n",
              "[5001 rows x 2 columns]"
            ]
          },
          "metadata": {
            "tags": []
          },
          "execution_count": 31
        }
      ]
    }
  ]
}