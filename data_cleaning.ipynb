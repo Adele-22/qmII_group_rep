{
  "nbformat": 4,
  "nbformat_minor": 0,
  "metadata": {
    "colab": {
      "name": "data_cleaning",
      "provenance": [],
      "collapsed_sections": [],
      "authorship_tag": "ABX9TyOotRW9muYR1t5lRdh+bW7T",
      "include_colab_link": true
    },
    "kernelspec": {
      "name": "python3",
      "display_name": "Python 3"
    }
  },
  "cells": [
    {
      "cell_type": "markdown",
      "metadata": {
        "id": "view-in-github",
        "colab_type": "text"
      },
      "source": [
        "<a href=\"https://colab.research.google.com/github/loicpages/qmII_group_rep/blob/main/data_cleaning.ipynb\" target=\"_parent\"><img src=\"https://colab.research.google.com/assets/colab-badge.svg\" alt=\"Open In Colab\"/></a>"
      ]
    },
    {
      "cell_type": "markdown",
      "metadata": {
        "id": "aRp-wNo3NZAo"
      },
      "source": [
        "***Data cleaning notebook - use to clean/ merge/ rearrange data sets***"
      ]
    },
    {
      "cell_type": "markdown",
      "metadata": {
        "id": "cWq1cVdAN2cf"
      },
      "source": [
        "*Libraries used:*"
      ]
    },
    {
      "cell_type": "code",
      "metadata": {
        "id": "A8IYeAsgS4e0"
      },
      "source": [
        "import pylab\n",
        "import pandas as pd\n",
        "import numpy as math\n",
        "from google.colab import files\n",
        "import io\n",
        "import matplotlib.pyplot as plt\n",
        "%matplotlib inline\n",
        "plt.style.use('ggplot')"
      ],
      "execution_count": 3,
      "outputs": []
    },
    {
      "cell_type": "markdown",
      "metadata": {
        "id": "2KStm4a3N9dd"
      },
      "source": [
        "*Importing, Encording and Indexing data:*"
      ]
    },
    {
      "cell_type": "code",
      "metadata": {
        "id": "alz7BmuaZVGL",
        "outputId": "e9034c63-ddf5-48cc-8b61-2fd46106b2ba",
        "colab": {
          "base_uri": "https://localhost:8080/",
          "height": 450
        }
      },
      "source": [
        "data_path = '/content/complete_data_set.csv'\n",
        "general_df = pd.read_csv(data_path, encoding ='latin-1')\n",
        "general_df.set_index('Country')"
      ],
      "execution_count": 5,
      "outputs": [
        {
          "output_type": "execute_result",
          "data": {
            "text/html": [
              "<div>\n",
              "<style scoped>\n",
              "    .dataframe tbody tr th:only-of-type {\n",
              "        vertical-align: middle;\n",
              "    }\n",
              "\n",
              "    .dataframe tbody tr th {\n",
              "        vertical-align: top;\n",
              "    }\n",
              "\n",
              "    .dataframe thead th {\n",
              "        text-align: right;\n",
              "    }\n",
              "</style>\n",
              "<table border=\"1\" class=\"dataframe\">\n",
              "  <thead>\n",
              "    <tr style=\"text-align: right;\">\n",
              "      <th></th>\n",
              "      <th>Commodity</th>\n",
              "      <th>Item</th>\n",
              "      <th>Unit</th>\n",
              "      <th>Year</th>\n",
              "      <th>Amount</th>\n",
              "    </tr>\n",
              "    <tr>\n",
              "      <th>Country</th>\n",
              "      <th></th>\n",
              "      <th></th>\n",
              "      <th></th>\n",
              "      <th></th>\n",
              "      <th></th>\n",
              "    </tr>\n",
              "  </thead>\n",
              "  <tbody>\n",
              "    <tr>\n",
              "      <th>Algeria</th>\n",
              "      <td>Total Grains/Cereals</td>\n",
              "      <td>Area Harvested</td>\n",
              "      <td>1000 Ha</td>\n",
              "      <td>1980</td>\n",
              "      <td>3181.380000</td>\n",
              "    </tr>\n",
              "    <tr>\n",
              "      <th>Algeria</th>\n",
              "      <td>Total Grains/Cereals</td>\n",
              "      <td>Yield</td>\n",
              "      <td>MT / Ha</td>\n",
              "      <td>1980</td>\n",
              "      <td>0.760260</td>\n",
              "    </tr>\n",
              "    <tr>\n",
              "      <th>Algeria</th>\n",
              "      <td>Total Grains/Cereals</td>\n",
              "      <td>Production Quantity</td>\n",
              "      <td>1000 MT</td>\n",
              "      <td>1980</td>\n",
              "      <td>2418.674400</td>\n",
              "    </tr>\n",
              "    <tr>\n",
              "      <th>Algeria</th>\n",
              "      <td>Economic Data</td>\n",
              "      <td>Gross Domestic Product, constant prices</td>\n",
              "      <td>Percent change</td>\n",
              "      <td>1980</td>\n",
              "      <td>-5.400000</td>\n",
              "    </tr>\n",
              "    <tr>\n",
              "      <th>Algeria</th>\n",
              "      <td>Economic Data</td>\n",
              "      <td>GDP (constant 2005 US$)</td>\n",
              "      <td>Million</td>\n",
              "      <td>1980</td>\n",
              "      <td>50817.865550</td>\n",
              "    </tr>\n",
              "    <tr>\n",
              "      <th>...</th>\n",
              "      <td>...</td>\n",
              "      <td>...</td>\n",
              "      <td>...</td>\n",
              "      <td>...</td>\n",
              "      <td>...</td>\n",
              "    </tr>\n",
              "    <tr>\n",
              "      <th>Peru</th>\n",
              "      <td>Total Grains/Cereals and Root Crops (R&amp;T)</td>\n",
              "      <td>Production Quantity</td>\n",
              "      <td>Grain Equiv. 1000 MT</td>\n",
              "      <td>2013</td>\n",
              "      <td>4256.022100</td>\n",
              "    </tr>\n",
              "    <tr>\n",
              "      <th>Peru</th>\n",
              "      <td>Total Grains/Cereals and Root Crops (R&amp;T)</td>\n",
              "      <td>Food Availability per capita</td>\n",
              "      <td>kg/cap/yr</td>\n",
              "      <td>2013</td>\n",
              "      <td>199.770754</td>\n",
              "    </tr>\n",
              "    <tr>\n",
              "      <th>Peru</th>\n",
              "      <td>Total Grains/Cereals and Root Crops (R&amp;T)</td>\n",
              "      <td>Food Supply</td>\n",
              "      <td>Grain Equiv. 1000 MT</td>\n",
              "      <td>2013</td>\n",
              "      <td>8246.022100</td>\n",
              "    </tr>\n",
              "    <tr>\n",
              "      <th>Peru</th>\n",
              "      <td>Other</td>\n",
              "      <td>Food Supply</td>\n",
              "      <td>Grain Equiv. 1000 MT / yr</td>\n",
              "      <td>2013</td>\n",
              "      <td>2526.583734</td>\n",
              "    </tr>\n",
              "    <tr>\n",
              "      <th>Peru</th>\n",
              "      <td>Other</td>\n",
              "      <td>Food Supply</td>\n",
              "      <td>Grain Equiv. kg/cap/yr</td>\n",
              "      <td>2013</td>\n",
              "      <td>325.289938</td>\n",
              "    </tr>\n",
              "  </tbody>\n",
              "</table>\n",
              "<p>90488 rows × 5 columns</p>\n",
              "</div>"
            ],
            "text/plain": [
              "                                         Commodity  ...        Amount\n",
              "Country                                             ...              \n",
              "Algeria                       Total Grains/Cereals  ...   3181.380000\n",
              "Algeria                       Total Grains/Cereals  ...      0.760260\n",
              "Algeria                       Total Grains/Cereals  ...   2418.674400\n",
              "Algeria                              Economic Data  ...     -5.400000\n",
              "Algeria                              Economic Data  ...  50817.865550\n",
              "...                                            ...  ...           ...\n",
              "Peru     Total Grains/Cereals and Root Crops (R&T)  ...   4256.022100\n",
              "Peru     Total Grains/Cereals and Root Crops (R&T)  ...    199.770754\n",
              "Peru     Total Grains/Cereals and Root Crops (R&T)  ...   8246.022100\n",
              "Peru                                         Other  ...   2526.583734\n",
              "Peru                                         Other  ...    325.289938\n",
              "\n",
              "[90488 rows x 5 columns]"
            ]
          },
          "metadata": {
            "tags": []
          },
          "execution_count": 5
        }
      ]
    },
    {
      "cell_type": "code",
      "metadata": {
        "id": "mkcnGwRxZBLs"
      },
      "source": [
        "from google.colab import drive\n",
        "drive.mount('/content/drive')"
      ],
      "execution_count": null,
      "outputs": []
    },
    {
      "cell_type": "markdown",
      "metadata": {
        "id": "N1jtHUiFP6Ta"
      },
      "source": [
        "Let's now create a new *'food_availibility_df'* and Isolate food availibility per capita for each country over *time*"
      ]
    },
    {
      "cell_type": "code",
      "metadata": {
        "id": "89v-Ls3fPLS2",
        "outputId": "b1b2995f-5e95-4112-c12e-ded97c7a90e6",
        "colab": {
          "base_uri": "https://localhost:8080/",
          "height": 450
        }
      },
      "source": [
        "#Creating an intermediate food availibility data frame to drop out some cathegories#\n",
        "intermediate_food_availibility_df = general_df[general_df.Commodity == \"Total Grains/Cereals and Root Crops (R&T)\"]\n",
        "food_availibility_df = intermediate_food_availibility_df[intermediate_food_availibility_df.Item == 'Food Availability per capita']\n",
        "food_availibility_df[[\"Country\", \"Year\", \"Commodity\", \"Item\", \"Unit\", \"Amount\"]]\n",
        "food_availibility_df = food_availibility_df.reset_index(drop = True)\n",
        "food_availibility_df.set_index('Country')"
      ],
      "execution_count": null,
      "outputs": [
        {
          "output_type": "execute_result",
          "data": {
            "text/html": [
              "<div>\n",
              "<style scoped>\n",
              "    .dataframe tbody tr th:only-of-type {\n",
              "        vertical-align: middle;\n",
              "    }\n",
              "\n",
              "    .dataframe tbody tr th {\n",
              "        vertical-align: top;\n",
              "    }\n",
              "\n",
              "    .dataframe thead th {\n",
              "        text-align: right;\n",
              "    }\n",
              "</style>\n",
              "<table border=\"1\" class=\"dataframe\">\n",
              "  <thead>\n",
              "    <tr style=\"text-align: right;\">\n",
              "      <th></th>\n",
              "      <th>Commodity</th>\n",
              "      <th>Item</th>\n",
              "      <th>Unit</th>\n",
              "      <th>Year</th>\n",
              "      <th>Amount</th>\n",
              "    </tr>\n",
              "    <tr>\n",
              "      <th>Country</th>\n",
              "      <th></th>\n",
              "      <th></th>\n",
              "      <th></th>\n",
              "      <th></th>\n",
              "      <th></th>\n",
              "    </tr>\n",
              "  </thead>\n",
              "  <tbody>\n",
              "    <tr>\n",
              "      <th>Algeria</th>\n",
              "      <td>Total Grains/Cereals and Root Crops (R&amp;T)</td>\n",
              "      <td>Food Availability per capita</td>\n",
              "      <td>kg/cap/yr</td>\n",
              "      <td>1980</td>\n",
              "      <td>206.507152</td>\n",
              "    </tr>\n",
              "    <tr>\n",
              "      <th>Algeria</th>\n",
              "      <td>Total Grains/Cereals and Root Crops (R&amp;T)</td>\n",
              "      <td>Food Availability per capita</td>\n",
              "      <td>kg/cap/yr</td>\n",
              "      <td>1981</td>\n",
              "      <td>197.960152</td>\n",
              "    </tr>\n",
              "    <tr>\n",
              "      <th>Algeria</th>\n",
              "      <td>Total Grains/Cereals and Root Crops (R&amp;T)</td>\n",
              "      <td>Food Availability per capita</td>\n",
              "      <td>kg/cap/yr</td>\n",
              "      <td>1982</td>\n",
              "      <td>196.535700</td>\n",
              "    </tr>\n",
              "    <tr>\n",
              "      <th>Algeria</th>\n",
              "      <td>Total Grains/Cereals and Root Crops (R&amp;T)</td>\n",
              "      <td>Food Availability per capita</td>\n",
              "      <td>kg/cap/yr</td>\n",
              "      <td>1983</td>\n",
              "      <td>196.798051</td>\n",
              "    </tr>\n",
              "    <tr>\n",
              "      <th>Algeria</th>\n",
              "      <td>Total Grains/Cereals and Root Crops (R&amp;T)</td>\n",
              "      <td>Food Availability per capita</td>\n",
              "      <td>kg/cap/yr</td>\n",
              "      <td>1984</td>\n",
              "      <td>191.743128</td>\n",
              "    </tr>\n",
              "    <tr>\n",
              "      <th>...</th>\n",
              "      <td>...</td>\n",
              "      <td>...</td>\n",
              "      <td>...</td>\n",
              "      <td>...</td>\n",
              "      <td>...</td>\n",
              "    </tr>\n",
              "    <tr>\n",
              "      <th>Peru</th>\n",
              "      <td>Total Grains/Cereals and Root Crops (R&amp;T)</td>\n",
              "      <td>Food Availability per capita</td>\n",
              "      <td>kg/cap/yr</td>\n",
              "      <td>2009</td>\n",
              "      <td>189.090475</td>\n",
              "    </tr>\n",
              "    <tr>\n",
              "      <th>Peru</th>\n",
              "      <td>Total Grains/Cereals and Root Crops (R&amp;T)</td>\n",
              "      <td>Food Availability per capita</td>\n",
              "      <td>kg/cap/yr</td>\n",
              "      <td>2010</td>\n",
              "      <td>191.126840</td>\n",
              "    </tr>\n",
              "    <tr>\n",
              "      <th>Peru</th>\n",
              "      <td>Total Grains/Cereals and Root Crops (R&amp;T)</td>\n",
              "      <td>Food Availability per capita</td>\n",
              "      <td>kg/cap/yr</td>\n",
              "      <td>2011</td>\n",
              "      <td>193.288913</td>\n",
              "    </tr>\n",
              "    <tr>\n",
              "      <th>Peru</th>\n",
              "      <td>Total Grains/Cereals and Root Crops (R&amp;T)</td>\n",
              "      <td>Food Availability per capita</td>\n",
              "      <td>kg/cap/yr</td>\n",
              "      <td>2012</td>\n",
              "      <td>198.678775</td>\n",
              "    </tr>\n",
              "    <tr>\n",
              "      <th>Peru</th>\n",
              "      <td>Total Grains/Cereals and Root Crops (R&amp;T)</td>\n",
              "      <td>Food Availability per capita</td>\n",
              "      <td>kg/cap/yr</td>\n",
              "      <td>2013</td>\n",
              "      <td>199.770754</td>\n",
              "    </tr>\n",
              "  </tbody>\n",
              "</table>\n",
              "<p>2360 rows × 5 columns</p>\n",
              "</div>"
            ],
            "text/plain": [
              "                                         Commodity  ...      Amount\n",
              "Country                                             ...            \n",
              "Algeria  Total Grains/Cereals and Root Crops (R&T)  ...  206.507152\n",
              "Algeria  Total Grains/Cereals and Root Crops (R&T)  ...  197.960152\n",
              "Algeria  Total Grains/Cereals and Root Crops (R&T)  ...  196.535700\n",
              "Algeria  Total Grains/Cereals and Root Crops (R&T)  ...  196.798051\n",
              "Algeria  Total Grains/Cereals and Root Crops (R&T)  ...  191.743128\n",
              "...                                            ...  ...         ...\n",
              "Peru     Total Grains/Cereals and Root Crops (R&T)  ...  189.090475\n",
              "Peru     Total Grains/Cereals and Root Crops (R&T)  ...  191.126840\n",
              "Peru     Total Grains/Cereals and Root Crops (R&T)  ...  193.288913\n",
              "Peru     Total Grains/Cereals and Root Crops (R&T)  ...  198.678775\n",
              "Peru     Total Grains/Cereals and Root Crops (R&T)  ...  199.770754\n",
              "\n",
              "[2360 rows x 5 columns]"
            ]
          },
          "metadata": {
            "tags": []
          },
          "execution_count": 38
        }
      ]
    }
  ]
}