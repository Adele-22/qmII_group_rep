{
  "nbformat": 4,
  "nbformat_minor": 0,
  "metadata": {
    "colab": {
      "name": "data_cleaning",
      "provenance": [],
      "collapsed_sections": [],
      "authorship_tag": "ABX9TyPat8bc8Ap3oH7M9wdq0jKj",
      "include_colab_link": true
    },
    "kernelspec": {
      "name": "python3",
      "display_name": "Python 3"
    }
  },
  "cells": [
    {
      "cell_type": "markdown",
      "metadata": {
        "id": "view-in-github",
        "colab_type": "text"
      },
      "source": [
        "<a href=\"https://colab.research.google.com/github/loicpages/qmII_group_rep/blob/main/data_cleaning_2.ipynb\" target=\"_parent\"><img src=\"https://colab.research.google.com/assets/colab-badge.svg\" alt=\"Open In Colab\"/></a>"
      ]
    },
    {
      "cell_type": "markdown",
      "metadata": {
        "id": "aRp-wNo3NZAo"
      },
      "source": [
        "***Data cleaning notebook - use to clean/ merge/ rearrange data sets***"
      ]
    },
    {
      "cell_type": "markdown",
      "metadata": {
        "id": "cWq1cVdAN2cf"
      },
      "source": [
        "*Libraries used:*"
      ]
    },
    {
      "cell_type": "code",
      "metadata": {
        "id": "A8IYeAsgS4e0"
      },
      "source": [
        "import pylab\n",
        "import pandas as pd\n",
        "import numpy as math\n",
        "from google.colab import files\n",
        "import io\n",
        "import matplotlib.pyplot as plt\n",
        "%matplotlib inline\n",
        "plt.style.use('ggplot')"
      ],
      "execution_count": 1,
      "outputs": []
    },
    {
      "cell_type": "markdown",
      "metadata": {
        "id": "2KStm4a3N9dd"
      },
      "source": [
        "*Importing, Encording and Indexing data:*"
      ]
    },
    {
      "cell_type": "code",
      "metadata": {
        "id": "alz7BmuaZVGL"
      },
      "source": [
        "data_path = '/content/complete_data_set.csv'\n",
        "general_df = pd.read_csv(data_path, encoding ='latin-1')"
      ],
      "execution_count": 13,
      "outputs": []
    },
    {
      "cell_type": "markdown",
      "metadata": {
        "id": "N1jtHUiFP6Ta"
      },
      "source": [
        "Let's now create a new *'food_availibility_df'* and Isolate food availibility per capita for each country over *time*"
      ]
    },
    {
      "cell_type": "code",
      "metadata": {
        "id": "89v-Ls3fPLS2"
      },
      "source": [
        "#Creating a food_availibility dataframe#\n",
        "intermediate_food_availibility_df = general_df[general_df.Commodity == \"Total Grains/Cereals and Root Crops (R&T)\"]\n",
        "food_availibility_df = intermediate_food_availibility_df[intermediate_food_availibility_df.Item == 'Food Availability per capita']\n",
        "food_availibility_df[[\"Country\", \"Year\", \"Commodity\", \"Item\", \"Unit\", \"Amount\"]]\n",
        "food_availibility_df = food_availibility_df.reset_index(drop = True)\n",
        "food_availibility_df.drop(['Commodity', 'Item', 'Unit'], axis=1, inplace = True)\n",
        "food_availibility_df.rename(columns = {'Amount': 'Food Availibility per capita'}, inplace = True)\n",
        "food_availibility_df.to_csv(r'food_availibility.csv', index = False)"
      ],
      "execution_count": 67,
      "outputs": []
    },
    {
      "cell_type": "code",
      "metadata": {
        "id": "BY4AEVWiuBIm"
      },
      "source": [
        "#Creating a food_production dataframe#\n",
        "intermediate_food_production_df = general_df[general_df.Commodity == \"Total Grains/Cereals and Root Crops (R&T)\"]\n",
        "food_production_df = intermediate_food_production_df[intermediate_food_production_df.Item == 'Production Quantity']\n",
        "food_production_df[[\"Country\", \"Year\", \"Commodity\", \"Item\", \"Unit\", \"Amount\"]]\n",
        "food_production_df = food_production_df.reset_index(drop = True)\n",
        "food_production_df.rename(columns = {'Amount': 'Production Quantity'}, inplace = True)\n",
        "food_production_df.drop(['Commodity', 'Item', 'Unit'], axis=1, inplace = True)\n",
        "food_production_df.to_csv(r'food_production.csv', index = False)"
      ],
      "execution_count": 56,
      "outputs": []
    },
    {
      "cell_type": "code",
      "metadata": {
        "id": "e0zSLKQgxfou"
      },
      "source": [
        "#Creating an import_grains_df#\n",
        "intermediate_import_grains_df = general_df[general_df.Commodity == \"Total Grains/Cereals\"]\n",
        "import_grains_df = intermediate_import_grains_df[intermediate_import_grains_df.Item == 'Import Quantity']\n",
        "import_grains_df[[\"Country\", \"Year\", \"Commodity\", \"Item\", \"Unit\", \"Amount\"]]\n",
        "import_grains_df = import_grains_df.reset_index(drop = True)\n",
        "import_grains_df.rename(columns = {'Amount': 'Import Quantity (Grains & Ce.)'}, inplace = True)\n",
        "import_grains_df.drop(['Commodity', 'Item', 'Unit'], axis=1, inplace = True)\n",
        "import_grains_df.to_csv(r'import_quantity_grains.csv', index = False)"
      ],
      "execution_count": 57,
      "outputs": []
    },
    {
      "cell_type": "code",
      "metadata": {
        "id": "MDhxIqGzxgDY"
      },
      "source": [
        "#Creating an export_grains_df#\n",
        "intermediate_import_grains_df = general_df[general_df.Commodity == \"Total Grains/Cereals\"]\n",
        "import_grains_df = intermediate_import_grains_df[intermediate_import_grains_df.Item == 'Export Quantity']\n",
        "import_grains_df[[\"Country\", \"Year\", \"Commodity\", \"Item\", \"Unit\", \"Amount\"]]\n",
        "import_grains_df = import_grains_df.reset_index(drop = True)\n",
        "import_grains_df.rename(columns = {'Amount': 'Export Quantity (Grains & Ce.)'}, inplace = True)\n",
        "import_grains_df.drop(['Commodity', 'Item', 'Unit'], axis=1, inplace = True)\n",
        "import_grains_df.to_csv(r'export_quantity_grains.csv', index = False)"
      ],
      "execution_count": 58,
      "outputs": []
    },
    {
      "cell_type": "code",
      "metadata": {
        "id": "YR1G0thFxf4_"
      },
      "source": [
        "#Creating an import_root_df#\n",
        "intermediate_import_grains_df = general_df[general_df.Commodity == \"Root Crops (R&T)\"]\n",
        "import_grains_df = intermediate_import_grains_df[intermediate_import_grains_df.Item == 'Import Quantity']\n",
        "import_grains_df[[\"Country\", \"Year\", \"Commodity\", \"Item\", \"Unit\", \"Amount\"]]\n",
        "import_grains_df = import_grains_df.reset_index(drop = True)\n",
        "import_grains_df.rename(columns = {'Amount': 'Import Quantity (Root Crops)'}, inplace = True)\n",
        "import_grains_df.drop(['Commodity', 'Item', 'Unit'], axis=1, inplace = True)\n",
        "import_grains_df.to_csv(r'import_quantity_root_crops.csv', index = False)"
      ],
      "execution_count": 66,
      "outputs": []
    },
    {
      "cell_type": "code",
      "metadata": {
        "id": "LFkETJOKxfWu"
      },
      "source": [
        "#Creating an export_root_df#\n",
        "intermediate_import_grains_df = general_df[general_df.Commodity == \"Root Crops (R&T)\"]\n",
        "import_grains_df = intermediate_import_grains_df[intermediate_import_grains_df.Item == 'Export Quantity']\n",
        "import_grains_df[[\"Country\", \"Year\", \"Commodity\", \"Item\", \"Unit\", \"Amount\"]]\n",
        "import_grains_df = import_grains_df.reset_index(drop = True)\n",
        "import_grains_df.rename(columns = {'Amount': 'Export Quantity (Root Crops)'}, inplace = True)\n",
        "import_grains_df.drop(['Commodity', 'Item', 'Unit'], axis=1, inplace = True)\n",
        "import_grains_df.to_csv(r'export_quantity_root_crops.csv', index = False)"
      ],
      "execution_count": 60,
      "outputs": []
    },
    {
      "cell_type": "code",
      "metadata": {
        "id": "MDCHCoS_45Gx"
      },
      "source": [
        "food_availibility_df = pd.read_csv('/content/food_availibility.csv')\n",
        "food_production_df = pd.read_csv('/content/food_production.csv')\n",
        "import_quantity_grains_df = pd.read_csv('/content/import_quantity_grains.csv')\n",
        "export_quantity_grains_df = pd.read_csv('/content/export_quantity_grains.csv')\n",
        "import_quantity_root_crops_df = pd.read_csv('/content/import_quantity_root_crops.csv')\n",
        "export_quantity_root_crops_df = pd.read_csv('/content/export_quantity_root_crops.csv')\n",
        "food_availibility_df.set_index('Year')\n",
        "food_production_df.set_index('Year')\n",
        "import_quantity_grains_df.set_index('Year')\n",
        "export_quantity_grains_df.set_index('Year')\n",
        "import_quantity_root_crops_df.set_index('Year')\n",
        "export_quantity_root_crops_df.set_index('Year')"
      ],
      "execution_count": null,
      "outputs": []
    },
    {
      "cell_type": "code",
      "metadata": {
        "id": "mawCGEkz9SKs",
        "outputId": "5121094b-47d0-409c-f6ff-5ec5e3d9b603",
        "colab": {
          "base_uri": "https://localhost:8080/"
        }
      },
      "source": [
        "result = pd.concat([food_availibility_df, food_production_df], axis=1, join='outer')\n",
        "print(result)"
      ],
      "execution_count": 77,
      "outputs": [
        {
          "output_type": "stream",
          "text": [
            "      Country    Year  ...  Year Production Quantity\n",
            "0     Algeria  1980.0  ...  1980         2567.776695\n",
            "1     Algeria  1981.0  ...  1981         1965.774252\n",
            "2     Algeria  1982.0  ...  1982         1629.625445\n",
            "3     Algeria  1983.0  ...  1983         1414.955573\n",
            "4     Algeria  1984.0  ...  1984         1594.689654\n",
            "...       ...     ...  ...   ...                 ...\n",
            "2457      NaN     NaN  ...  2009         6006.753740\n",
            "2458      NaN     NaN  ...  2010         5949.221967\n",
            "2459      NaN     NaN  ...  2011         5818.093901\n",
            "2460      NaN     NaN  ...  2012         6442.314557\n",
            "2461      NaN     NaN  ...  2013         4256.022100\n",
            "\n",
            "[2462 rows x 6 columns]\n"
          ],
          "name": "stdout"
        }
      ]
    }
  ]
}